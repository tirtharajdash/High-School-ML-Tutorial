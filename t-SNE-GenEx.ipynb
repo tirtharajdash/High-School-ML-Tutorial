{
 "cells": [
  {
   "cell_type": "markdown",
   "metadata": {},
   "source": [
    "t-Distributed Stochastic Neighbor Embedding (t-SNE) is a technique for dimensionality reduction that is particularly well suited for the visualization of high-dimensional datasets, e.g. Gene Expression Datasets. \n",
    "\n",
    "t-SNE measures the distance from each data-instance to every other instance, converted into a probability by fitting a normal distribution over the current case. These probabilities are scaled by dividing them by their sum, so that they add to 1 (a standard practice to convert an array of natural numbers to probabilities.)\n",
    "\n",
    "<img src=\"./figs/t-sne-fig1.png\" width=\"700\">\n",
    "\n",
    "This is done for each data instance.\n",
    "\n",
    "When converting these distances in the lower-dimensional representation into probabilities, t-SNE fits a Student’s t distribution over the current data-instance instead of a normal distribution. The Student’s t distribution has longer tails, meaning dissimilar cases are pushed further away to achieve the same probability as in the high-dimensional representation. This allows a very strict neighbour (local) structure to prevail in the t-SNE embedding space.\n",
    "\n",
    "<img src=\"./figs/t-sne-fig2.png\" width=\"700\">\n",
    "\n",
    "The goal is then to force a match between the Gaussian distribution (in the original space) and the t-distribution (in the t-SNE embedding space). This is done minimising a loss function: The [Kullback-Leibler Divergence](https://en.wikipedia.org/wiki/Kullback%E2%80%93Leibler_divergence). This is an iterative procedure and requires a parameter called \"Maximum number of steps\" ($n_{iter}$ in Scikit-Learn version of t-SNE).\n",
    "\n",
    "There are some more hyperparameters, such as $perplexity$ value that roughly translates to the data density in the neighbourhood of a data-instance. I have discussed about this in our zoom discussion. Please go through it. In fact, you can see how this parameter affects the t-SNE performance through the experiments in this notebook."
   ]
  },
  {
   "cell_type": "code",
   "execution_count": 1,
   "metadata": {},
   "outputs": [],
   "source": [
    "#load all the required libraries\n",
    "import time\n",
    "import numpy as np\n",
    "import pandas as pd\n",
    "from sklearn.manifold import TSNE\n",
    "\n",
    "%matplotlib inline\n",
    "import matplotlib.pyplot as plt\n",
    "import seaborn as sns"
   ]
  },
  {
   "cell_type": "code",
   "execution_count": 2,
   "metadata": {},
   "outputs": [
    {
     "name": "stdout",
     "output_type": "stream",
     "text": [
      "(801, 20532)\n",
      "(801, 2)\n"
     ]
    }
   ],
   "source": [
    "#load the gene-expression matrix\n",
    "data_path = './data/TCGA-PANCAN-HiSeq-801x20531'\n",
    "\n",
    "df_X = pd.read_csv(f'{data_path}/data.csv', delimiter=',')\n",
    "print(df_X.shape)\n",
    "\n",
    "df_y = pd.read_csv(f'{data_path}/labels.csv', delimiter=',')\n",
    "print(df_y.shape)"
   ]
  },
  {
   "cell_type": "code",
   "execution_count": 3,
   "metadata": {},
   "outputs": [
    {
     "data": {
      "text/html": [
       "<div>\n",
       "<style scoped>\n",
       "    .dataframe tbody tr th:only-of-type {\n",
       "        vertical-align: middle;\n",
       "    }\n",
       "\n",
       "    .dataframe tbody tr th {\n",
       "        vertical-align: top;\n",
       "    }\n",
       "\n",
       "    .dataframe thead th {\n",
       "        text-align: right;\n",
       "    }\n",
       "</style>\n",
       "<table border=\"1\" class=\"dataframe\">\n",
       "  <thead>\n",
       "    <tr style=\"text-align: right;\">\n",
       "      <th></th>\n",
       "      <th>Unnamed: 0</th>\n",
       "      <th>gene_0</th>\n",
       "      <th>gene_1</th>\n",
       "      <th>gene_2</th>\n",
       "      <th>gene_3</th>\n",
       "      <th>gene_4</th>\n",
       "      <th>gene_5</th>\n",
       "      <th>gene_6</th>\n",
       "      <th>gene_7</th>\n",
       "      <th>gene_8</th>\n",
       "      <th>...</th>\n",
       "      <th>gene_20521</th>\n",
       "      <th>gene_20522</th>\n",
       "      <th>gene_20523</th>\n",
       "      <th>gene_20524</th>\n",
       "      <th>gene_20525</th>\n",
       "      <th>gene_20526</th>\n",
       "      <th>gene_20527</th>\n",
       "      <th>gene_20528</th>\n",
       "      <th>gene_20529</th>\n",
       "      <th>gene_20530</th>\n",
       "    </tr>\n",
       "  </thead>\n",
       "  <tbody>\n",
       "    <tr>\n",
       "      <th>0</th>\n",
       "      <td>sample_0</td>\n",
       "      <td>0.0</td>\n",
       "      <td>2.017209</td>\n",
       "      <td>3.265527</td>\n",
       "      <td>5.478487</td>\n",
       "      <td>10.431999</td>\n",
       "      <td>0.0</td>\n",
       "      <td>7.175175</td>\n",
       "      <td>0.591871</td>\n",
       "      <td>0.0</td>\n",
       "      <td>...</td>\n",
       "      <td>4.926711</td>\n",
       "      <td>8.210257</td>\n",
       "      <td>9.723516</td>\n",
       "      <td>7.220030</td>\n",
       "      <td>9.119813</td>\n",
       "      <td>12.003135</td>\n",
       "      <td>9.650743</td>\n",
       "      <td>8.921326</td>\n",
       "      <td>5.286759</td>\n",
       "      <td>0.0</td>\n",
       "    </tr>\n",
       "    <tr>\n",
       "      <th>1</th>\n",
       "      <td>sample_1</td>\n",
       "      <td>0.0</td>\n",
       "      <td>0.592732</td>\n",
       "      <td>1.588421</td>\n",
       "      <td>7.586157</td>\n",
       "      <td>9.623011</td>\n",
       "      <td>0.0</td>\n",
       "      <td>6.816049</td>\n",
       "      <td>0.000000</td>\n",
       "      <td>0.0</td>\n",
       "      <td>...</td>\n",
       "      <td>4.593372</td>\n",
       "      <td>7.323865</td>\n",
       "      <td>9.740931</td>\n",
       "      <td>6.256586</td>\n",
       "      <td>8.381612</td>\n",
       "      <td>12.674552</td>\n",
       "      <td>10.517059</td>\n",
       "      <td>9.397854</td>\n",
       "      <td>2.094168</td>\n",
       "      <td>0.0</td>\n",
       "    </tr>\n",
       "    <tr>\n",
       "      <th>2</th>\n",
       "      <td>sample_2</td>\n",
       "      <td>0.0</td>\n",
       "      <td>3.511759</td>\n",
       "      <td>4.327199</td>\n",
       "      <td>6.881787</td>\n",
       "      <td>9.870730</td>\n",
       "      <td>0.0</td>\n",
       "      <td>6.972130</td>\n",
       "      <td>0.452595</td>\n",
       "      <td>0.0</td>\n",
       "      <td>...</td>\n",
       "      <td>5.125213</td>\n",
       "      <td>8.127123</td>\n",
       "      <td>10.908640</td>\n",
       "      <td>5.401607</td>\n",
       "      <td>9.911597</td>\n",
       "      <td>9.045255</td>\n",
       "      <td>9.788359</td>\n",
       "      <td>10.090470</td>\n",
       "      <td>1.683023</td>\n",
       "      <td>0.0</td>\n",
       "    </tr>\n",
       "    <tr>\n",
       "      <th>3</th>\n",
       "      <td>sample_3</td>\n",
       "      <td>0.0</td>\n",
       "      <td>3.663618</td>\n",
       "      <td>4.507649</td>\n",
       "      <td>6.659068</td>\n",
       "      <td>10.196184</td>\n",
       "      <td>0.0</td>\n",
       "      <td>7.843375</td>\n",
       "      <td>0.434882</td>\n",
       "      <td>0.0</td>\n",
       "      <td>...</td>\n",
       "      <td>6.076566</td>\n",
       "      <td>8.792959</td>\n",
       "      <td>10.141520</td>\n",
       "      <td>8.942805</td>\n",
       "      <td>9.601208</td>\n",
       "      <td>11.392682</td>\n",
       "      <td>9.694814</td>\n",
       "      <td>9.684365</td>\n",
       "      <td>3.292001</td>\n",
       "      <td>0.0</td>\n",
       "    </tr>\n",
       "    <tr>\n",
       "      <th>4</th>\n",
       "      <td>sample_4</td>\n",
       "      <td>0.0</td>\n",
       "      <td>2.655741</td>\n",
       "      <td>2.821547</td>\n",
       "      <td>6.539454</td>\n",
       "      <td>9.738265</td>\n",
       "      <td>0.0</td>\n",
       "      <td>6.566967</td>\n",
       "      <td>0.360982</td>\n",
       "      <td>0.0</td>\n",
       "      <td>...</td>\n",
       "      <td>5.996032</td>\n",
       "      <td>8.891425</td>\n",
       "      <td>10.373790</td>\n",
       "      <td>7.181162</td>\n",
       "      <td>9.846910</td>\n",
       "      <td>11.922439</td>\n",
       "      <td>9.217749</td>\n",
       "      <td>9.461191</td>\n",
       "      <td>5.110372</td>\n",
       "      <td>0.0</td>\n",
       "    </tr>\n",
       "  </tbody>\n",
       "</table>\n",
       "<p>5 rows × 20532 columns</p>\n",
       "</div>"
      ],
      "text/plain": [
       "  Unnamed: 0  gene_0    gene_1    gene_2    gene_3     gene_4  gene_5  \\\n",
       "0   sample_0     0.0  2.017209  3.265527  5.478487  10.431999     0.0   \n",
       "1   sample_1     0.0  0.592732  1.588421  7.586157   9.623011     0.0   \n",
       "2   sample_2     0.0  3.511759  4.327199  6.881787   9.870730     0.0   \n",
       "3   sample_3     0.0  3.663618  4.507649  6.659068  10.196184     0.0   \n",
       "4   sample_4     0.0  2.655741  2.821547  6.539454   9.738265     0.0   \n",
       "\n",
       "     gene_6    gene_7  gene_8  ...  gene_20521  gene_20522  gene_20523  \\\n",
       "0  7.175175  0.591871     0.0  ...    4.926711    8.210257    9.723516   \n",
       "1  6.816049  0.000000     0.0  ...    4.593372    7.323865    9.740931   \n",
       "2  6.972130  0.452595     0.0  ...    5.125213    8.127123   10.908640   \n",
       "3  7.843375  0.434882     0.0  ...    6.076566    8.792959   10.141520   \n",
       "4  6.566967  0.360982     0.0  ...    5.996032    8.891425   10.373790   \n",
       "\n",
       "   gene_20524  gene_20525  gene_20526  gene_20527  gene_20528  gene_20529  \\\n",
       "0    7.220030    9.119813   12.003135    9.650743    8.921326    5.286759   \n",
       "1    6.256586    8.381612   12.674552   10.517059    9.397854    2.094168   \n",
       "2    5.401607    9.911597    9.045255    9.788359   10.090470    1.683023   \n",
       "3    8.942805    9.601208   11.392682    9.694814    9.684365    3.292001   \n",
       "4    7.181162    9.846910   11.922439    9.217749    9.461191    5.110372   \n",
       "\n",
       "   gene_20530  \n",
       "0         0.0  \n",
       "1         0.0  \n",
       "2         0.0  \n",
       "3         0.0  \n",
       "4         0.0  \n",
       "\n",
       "[5 rows x 20532 columns]"
      ]
     },
     "execution_count": 3,
     "metadata": {},
     "output_type": "execute_result"
    }
   ],
   "source": [
    "#Let's print a first few samples and their expressions for each gene\n",
    "df_X.head()"
   ]
  },
  {
   "cell_type": "code",
   "execution_count": 4,
   "metadata": {},
   "outputs": [
    {
     "data": {
      "text/html": [
       "<div>\n",
       "<style scoped>\n",
       "    .dataframe tbody tr th:only-of-type {\n",
       "        vertical-align: middle;\n",
       "    }\n",
       "\n",
       "    .dataframe tbody tr th {\n",
       "        vertical-align: top;\n",
       "    }\n",
       "\n",
       "    .dataframe thead th {\n",
       "        text-align: right;\n",
       "    }\n",
       "</style>\n",
       "<table border=\"1\" class=\"dataframe\">\n",
       "  <thead>\n",
       "    <tr style=\"text-align: right;\">\n",
       "      <th></th>\n",
       "      <th>Unnamed: 0</th>\n",
       "      <th>Class</th>\n",
       "    </tr>\n",
       "  </thead>\n",
       "  <tbody>\n",
       "    <tr>\n",
       "      <th>0</th>\n",
       "      <td>sample_0</td>\n",
       "      <td>PRAD</td>\n",
       "    </tr>\n",
       "    <tr>\n",
       "      <th>1</th>\n",
       "      <td>sample_1</td>\n",
       "      <td>LUAD</td>\n",
       "    </tr>\n",
       "    <tr>\n",
       "      <th>2</th>\n",
       "      <td>sample_2</td>\n",
       "      <td>PRAD</td>\n",
       "    </tr>\n",
       "    <tr>\n",
       "      <th>3</th>\n",
       "      <td>sample_3</td>\n",
       "      <td>PRAD</td>\n",
       "    </tr>\n",
       "    <tr>\n",
       "      <th>4</th>\n",
       "      <td>sample_4</td>\n",
       "      <td>BRCA</td>\n",
       "    </tr>\n",
       "  </tbody>\n",
       "</table>\n",
       "</div>"
      ],
      "text/plain": [
       "  Unnamed: 0 Class\n",
       "0   sample_0  PRAD\n",
       "1   sample_1  LUAD\n",
       "2   sample_2  PRAD\n",
       "3   sample_3  PRAD\n",
       "4   sample_4  BRCA"
      ]
     },
     "execution_count": 4,
     "metadata": {},
     "output_type": "execute_result"
    }
   ],
   "source": [
    "#and, to which classes these samples belong?\n",
    "df_y.head()"
   ]
  },
  {
   "cell_type": "code",
   "execution_count": 5,
   "metadata": {},
   "outputs": [],
   "source": [
    "X = df_X.iloc[:,1:]\n",
    "y = df_y.iloc[:,1:]"
   ]
  },
  {
   "cell_type": "markdown",
   "metadata": {},
   "source": [
    "Notice that each sample is represented by a `df_X.shape[1]` vector (e.g. 20531-length real valued vector; or we can say $\\mathbf{x} \\in \\mathbb{R}^{20531}$). So the total matrix is represented by $\\mathbf{X} \\in \\mathbb{R}^{801 \\times 20531}$, that is there are 801 instances (samples), each represented by a gene expression vector of length 20531."
   ]
  },
  {
   "cell_type": "code",
   "execution_count": 6,
   "metadata": {},
   "outputs": [
    {
     "name": "stdout",
     "output_type": "stream",
     "text": [
      "Class\n",
      "BRCA     300\n",
      "KIRC     146\n",
      "LUAD     141\n",
      "PRAD     136\n",
      "COAD      78\n",
      "dtype: int64\n",
      "\n",
      "Distinct classes: ['BRCA' 'COAD' 'KIRC' 'LUAD' 'PRAD']\n"
     ]
    }
   ],
   "source": [
    "#Ok, how many classes are there and for each class, how many samples are present?\n",
    "print(y.value_counts())\n",
    "num_classes = np.unique(list(y.values))\n",
    "print(f'\\nDistinct classes: {num_classes}')"
   ]
  },
  {
   "cell_type": "markdown",
   "metadata": {},
   "source": [
    "We are interested in represent each sample in a lower-dimensional space (human visualisable: 2-dimension). We will use the t-Stochastic Neighbour Embedding (t-SNE) to do this job for us. See the associated notebook/slides/notes in this repository.\n"
   ]
  },
  {
   "cell_type": "code",
   "execution_count": 7,
   "metadata": {},
   "outputs": [
    {
     "name": "stdout",
     "output_type": "stream",
     "text": [
      "[t-SNE] Computing 91 nearest neighbors...\n",
      "[t-SNE] Indexed 801 samples in 0.053s...\n",
      "[t-SNE] Computed neighbors for 801 samples in 0.341s...\n",
      "[t-SNE] Computed conditional probabilities for sample 801 / 801\n",
      "[t-SNE] Mean sigma: 51.650639\n",
      "[t-SNE] Computed conditional probabilities in 0.020s\n",
      "[t-SNE] Iteration 50: error = 58.3380280, gradient norm = 0.1760245 (50 iterations in 0.061s)\n",
      "[t-SNE] Iteration 100: error = 51.5765572, gradient norm = 0.0750653 (50 iterations in 0.052s)\n",
      "[t-SNE] Iteration 150: error = 50.7253113, gradient norm = 0.0217854 (50 iterations in 0.111s)\n",
      "[t-SNE] Iteration 200: error = 50.3455353, gradient norm = 0.0142780 (50 iterations in 0.068s)\n",
      "[t-SNE] Iteration 250: error = 50.1348076, gradient norm = 0.0313311 (50 iterations in 0.066s)\n",
      "[t-SNE] KL divergence after 250 iterations with early exaggeration: 50.134808\n",
      "[t-SNE] Iteration 300: error = 0.9229858, gradient norm = 0.0019647 (50 iterations in 0.056s)\n",
      "[t-SNE] Iteration 350: error = 0.7898197, gradient norm = 0.0006245 (50 iterations in 0.059s)\n",
      "[t-SNE] Iteration 400: error = 0.7440150, gradient norm = 0.0003374 (50 iterations in 0.057s)\n",
      "[t-SNE] Iteration 450: error = 0.7240072, gradient norm = 0.0002449 (50 iterations in 0.055s)\n",
      "[t-SNE] Iteration 500: error = 0.7147113, gradient norm = 0.0002231 (50 iterations in 0.056s)\n",
      "[t-SNE] Iteration 550: error = 0.7094082, gradient norm = 0.0001802 (50 iterations in 0.055s)\n",
      "[t-SNE] Iteration 600: error = 0.7059389, gradient norm = 0.0001498 (50 iterations in 0.054s)\n",
      "[t-SNE] Iteration 650: error = 0.7028507, gradient norm = 0.0001283 (50 iterations in 0.048s)\n",
      "[t-SNE] Iteration 700: error = 0.7002141, gradient norm = 0.0001354 (50 iterations in 0.053s)\n",
      "[t-SNE] Iteration 750: error = 0.6984057, gradient norm = 0.0001331 (50 iterations in 0.054s)\n",
      "[t-SNE] Iteration 800: error = 0.6966730, gradient norm = 0.0001161 (50 iterations in 0.049s)\n",
      "[t-SNE] Iteration 850: error = 0.6954522, gradient norm = 0.0001170 (50 iterations in 0.047s)\n",
      "[t-SNE] Iteration 900: error = 0.6944118, gradient norm = 0.0001098 (50 iterations in 0.047s)\n",
      "[t-SNE] Iteration 950: error = 0.6933900, gradient norm = 0.0001059 (50 iterations in 0.047s)\n",
      "[t-SNE] Iteration 1000: error = 0.6924660, gradient norm = 0.0001247 (50 iterations in 0.056s)\n",
      "[t-SNE] KL divergence after 1000 iterations: 0.692466\n",
      "t-SNE done! Time elapsed: 1.6293554306030273 seconds.\n"
     ]
    }
   ],
   "source": [
    "#t-SNE and see how much time it takes\n",
    "time_start = time.time()\n",
    "\n",
    "tsne = TSNE(n_components=2,\n",
    "            init='random',\n",
    "            verbose=2, \n",
    "            perplexity=30, \n",
    "            n_iter=1000,\n",
    "            learning_rate='auto',\n",
    "            random_state=0)\n",
    "\n",
    "tsne_results = tsne.fit_transform(X)\n",
    "\n",
    "print(f't-SNE done! Time elapsed: {time.time()-time_start} seconds.')"
   ]
  },
  {
   "cell_type": "code",
   "execution_count": 8,
   "metadata": {},
   "outputs": [
    {
     "data": {
      "text/html": [
       "<div>\n",
       "<style scoped>\n",
       "    .dataframe tbody tr th:only-of-type {\n",
       "        vertical-align: middle;\n",
       "    }\n",
       "\n",
       "    .dataframe tbody tr th {\n",
       "        vertical-align: top;\n",
       "    }\n",
       "\n",
       "    .dataframe thead th {\n",
       "        text-align: right;\n",
       "    }\n",
       "</style>\n",
       "<table border=\"1\" class=\"dataframe\">\n",
       "  <thead>\n",
       "    <tr style=\"text-align: right;\">\n",
       "      <th></th>\n",
       "      <th>Class</th>\n",
       "    </tr>\n",
       "  </thead>\n",
       "  <tbody>\n",
       "    <tr>\n",
       "      <th>0</th>\n",
       "      <td>PRAD</td>\n",
       "    </tr>\n",
       "    <tr>\n",
       "      <th>1</th>\n",
       "      <td>LUAD</td>\n",
       "    </tr>\n",
       "    <tr>\n",
       "      <th>2</th>\n",
       "      <td>PRAD</td>\n",
       "    </tr>\n",
       "    <tr>\n",
       "      <th>3</th>\n",
       "      <td>PRAD</td>\n",
       "    </tr>\n",
       "    <tr>\n",
       "      <th>4</th>\n",
       "      <td>BRCA</td>\n",
       "    </tr>\n",
       "    <tr>\n",
       "      <th>...</th>\n",
       "      <td>...</td>\n",
       "    </tr>\n",
       "    <tr>\n",
       "      <th>796</th>\n",
       "      <td>BRCA</td>\n",
       "    </tr>\n",
       "    <tr>\n",
       "      <th>797</th>\n",
       "      <td>LUAD</td>\n",
       "    </tr>\n",
       "    <tr>\n",
       "      <th>798</th>\n",
       "      <td>COAD</td>\n",
       "    </tr>\n",
       "    <tr>\n",
       "      <th>799</th>\n",
       "      <td>PRAD</td>\n",
       "    </tr>\n",
       "    <tr>\n",
       "      <th>800</th>\n",
       "      <td>PRAD</td>\n",
       "    </tr>\n",
       "  </tbody>\n",
       "</table>\n",
       "<p>801 rows × 1 columns</p>\n",
       "</div>"
      ],
      "text/plain": [
       "    Class\n",
       "0    PRAD\n",
       "1    LUAD\n",
       "2    PRAD\n",
       "3    PRAD\n",
       "4    BRCA\n",
       "..    ...\n",
       "796  BRCA\n",
       "797  LUAD\n",
       "798  COAD\n",
       "799  PRAD\n",
       "800  PRAD\n",
       "\n",
       "[801 rows x 1 columns]"
      ]
     },
     "execution_count": 8,
     "metadata": {},
     "output_type": "execute_result"
    }
   ],
   "source": [
    "y"
   ]
  },
  {
   "cell_type": "code",
   "execution_count": 9,
   "metadata": {},
   "outputs": [
    {
     "data": {
      "text/plain": [
       "<AxesSubplot: xlabel='var1', ylabel='var2'>"
      ]
     },
     "execution_count": 9,
     "metadata": {},
     "output_type": "execute_result"
    },
    {
     "data": {
      "image/png": "[encoded data removed]",
      "text/plain": [
       "<Figure size 400x300 with 1 Axes>"
      ]
     },
     "metadata": {},
     "output_type": "display_data"
    }
   ],
   "source": [
    "#visualise the result in low-dimension (2-dim)\n",
    "tsne_embedding = pd.DataFrame()\n",
    "tsne_embedding['var1'] = tsne_results[:,0]\n",
    "tsne_embedding['var2'] = tsne_results[:,1]\n",
    "tsne_embedding['class'] = y['Class'].values\n",
    "\n",
    "plt.figure(figsize=(4,3))\n",
    "sns.scatterplot(\n",
    "    x=\"var1\", y=\"var2\",\n",
    "    hue=\"class\",\n",
    "    palette=sns.color_palette(\"hls\", len(num_classes)),\n",
    "    data=tsne_embedding,\n",
    "    legend=\"full\",\n",
    "    alpha=1\n",
    ")"
   ]
  },
  {
   "cell_type": "markdown",
   "metadata": {},
   "source": [
    "One would agree that the standard Euclidean distance in such a high-dimensional space ($\\mathbb{R}^{48106}$) doesn't work well (see Wiki page on [Curse of Dimensionality](https://en.wikipedia.org/wiki/Curse_of_dimensionality)). So, to make things meaningful, let's try reducing the dimension to a lower dimension first, using [PCA](https://en.wikipedia.org/wiki/Principal_component_analysis) and then learn t-SNE on the reduced dimension. See below:"
   ]
  },
  {
   "cell_type": "code",
   "execution_count": 10,
   "metadata": {},
   "outputs": [
    {
     "name": "stdout",
     "output_type": "stream",
     "text": [
      "[t-SNE] Computing 91 nearest neighbors...\n",
      "[t-SNE] Indexed 801 samples in 0.084s...\n",
      "[t-SNE] Computed neighbors for 801 samples in 0.330s...\n",
      "[t-SNE] Computed conditional probabilities for sample 801 / 801\n",
      "[t-SNE] Mean sigma: 51.650639\n",
      "[t-SNE] Computed conditional probabilities in 0.020s\n"
     ]
    },
    {
     "name": "stderr",
     "output_type": "stream",
     "text": [
      "/home/dash/anaconda3/envs/sklearn-env/lib/python3.11/site-packages/sklearn/manifold/_t_sne.py:996: FutureWarning: The PCA initialization in TSNE will change to have the standard deviation of PC1 equal to 1e-4 in 1.2. This will ensure better convergence.\n",
      "  warnings.warn(\n"
     ]
    },
    {
     "name": "stdout",
     "output_type": "stream",
     "text": [
      "[t-SNE] Iteration 50: error = 55.3274536, gradient norm = 0.1681842 (50 iterations in 0.102s)\n",
      "[t-SNE] Iteration 100: error = 50.6188698, gradient norm = 0.0619562 (50 iterations in 0.051s)\n",
      "[t-SNE] Iteration 150: error = 49.4949684, gradient norm = 0.1021365 (50 iterations in 0.060s)\n",
      "[t-SNE] Iteration 200: error = 48.9416084, gradient norm = 0.0396136 (50 iterations in 0.054s)\n",
      "[t-SNE] Iteration 250: error = 48.9202690, gradient norm = 0.0417593 (50 iterations in 0.063s)\n",
      "[t-SNE] KL divergence after 250 iterations with early exaggeration: 48.920269\n",
      "[t-SNE] Iteration 300: error = 0.7693412, gradient norm = 0.0016825 (50 iterations in 0.048s)\n",
      "[t-SNE] Iteration 350: error = 0.7367803, gradient norm = 0.0004596 (50 iterations in 0.047s)\n",
      "[t-SNE] Iteration 400: error = 0.7296184, gradient norm = 0.0002341 (50 iterations in 0.047s)\n",
      "[t-SNE] Iteration 450: error = 0.7196873, gradient norm = 0.0003281 (50 iterations in 0.046s)\n",
      "[t-SNE] Iteration 500: error = 0.7120135, gradient norm = 0.0001596 (50 iterations in 0.054s)\n",
      "[t-SNE] Iteration 550: error = 0.7073120, gradient norm = 0.0001643 (50 iterations in 0.045s)\n",
      "[t-SNE] Iteration 600: error = 0.6990225, gradient norm = 0.0002105 (50 iterations in 0.054s)\n",
      "[t-SNE] Iteration 650: error = 0.6971680, gradient norm = 0.0001705 (50 iterations in 0.086s)\n",
      "[t-SNE] Iteration 700: error = 0.6948099, gradient norm = 0.0002330 (50 iterations in 0.058s)\n",
      "[t-SNE] Iteration 750: error = 0.6931190, gradient norm = 0.0001490 (50 iterations in 0.051s)\n",
      "[t-SNE] Iteration 800: error = 0.6922095, gradient norm = 0.0001275 (50 iterations in 0.050s)\n",
      "[t-SNE] Iteration 850: error = 0.6909428, gradient norm = 0.0001531 (50 iterations in 0.046s)\n",
      "[t-SNE] Iteration 900: error = 0.6899635, gradient norm = 0.0001138 (50 iterations in 0.048s)\n",
      "[t-SNE] Iteration 950: error = 0.6892405, gradient norm = 0.0001225 (50 iterations in 0.053s)\n",
      "[t-SNE] Iteration 1000: error = 0.6885798, gradient norm = 0.0002330 (50 iterations in 0.045s)\n",
      "[t-SNE] KL divergence after 1000 iterations: 0.688580\n",
      "t-SNE done! Time elapsed: 2.327932596206665 seconds.\n"
     ]
    }
   ],
   "source": [
    "#t-SNE and see how much time it takes\n",
    "time_start = time.time()\n",
    "\n",
    "tsne = TSNE(n_components=2,\n",
    "            init='pca',\n",
    "            verbose=2, \n",
    "            perplexity=30, \n",
    "            n_iter=1000,\n",
    "            learning_rate='auto',\n",
    "            random_state=0)\n",
    "\n",
    "tsne_results = tsne.fit_transform(X)\n",
    "\n",
    "print(f't-SNE done! Time elapsed: {time.time()-time_start} seconds.')"
   ]
  },
  {
   "cell_type": "code",
   "execution_count": 11,
   "metadata": {},
   "outputs": [
    {
     "data": {
      "text/plain": [
       "<AxesSubplot: xlabel='var1', ylabel='var2'>"
      ]
     },
     "execution_count": 11,
     "metadata": {},
     "output_type": "execute_result"
    },
    {
     "data": {
      "image/png": "[encoded data removed]",
      "text/plain": [
       "<Figure size 400x300 with 1 Axes>"
      ]
     },
     "metadata": {},
     "output_type": "display_data"
    }
   ],
   "source": [
    "#visualise the result in low-dimension (2-dim)\n",
    "tsne_embedding = pd.DataFrame()\n",
    "tsne_embedding['var1'] = tsne_results[:,0]\n",
    "tsne_embedding['var2'] = tsne_results[:,1]\n",
    "tsne_embedding['class'] = y['Class'].values\n",
    "\n",
    "plt.figure(figsize=(4,3))\n",
    "sns.scatterplot(\n",
    "    x=\"var1\", y=\"var2\",\n",
    "    hue=\"class\",\n",
    "    palette=sns.color_palette(\"hls\", len(num_classes)),\n",
    "    data=tsne_embedding,\n",
    "    legend=\"full\",\n",
    "    alpha=1\n",
    ")"
   ]
  },
  {
   "cell_type": "markdown",
   "metadata": {},
   "source": [
    "There is some difference to the earlier results."
   ]
  },
  {
   "cell_type": "markdown",
   "metadata": {},
   "source": [
    "**Questions:**\n",
    "\n",
    "1. Study the effects of different hyperparameters in t-SNE.\n",
    "2. Do you observe any difference in your visualisation if you change the `init` parameter within t-SNE? \n",
    "3. Look at [this page](https://scikit-learn.org/stable/modules/generated/sklearn.manifold.TSNE.html) to study other hyperparameters."
   ]
  },
  {
   "cell_type": "code",
   "execution_count": null,
   "metadata": {},
   "outputs": [],
   "source": []
  }
 ],
 "metadata": {
  "kernelspec": {
   "display_name": "Python 3 (ipykernel)",
   "language": "python",
   "name": "python3"
  },
  "language_info": {
   "codemirror_mode": {
    "name": "ipython",
    "version": 3
   },
   "file_extension": ".py",
   "mimetype": "text/x-python",
   "name": "python",
   "nbconvert_exporter": "python",
   "pygments_lexer": "ipython3",
   "version": "3.11.0"
  },
  "vscode": {
   "interpreter": {
    "hash": "cf8e76f763685278e4c14d81d00d46bd633c17b09062d78c1f8c765a8b2a3233"
   }
  }
 },
 "nbformat": 4,
 "nbformat_minor": 2
}
